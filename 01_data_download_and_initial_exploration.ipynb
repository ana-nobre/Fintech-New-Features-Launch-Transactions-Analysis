{
 "cells": [
  {
   "cell_type": "markdown",
   "id": "74d74d09",
   "metadata": {},
   "source": [
    "## 1. Installations\n"
   ]
  },
  {
   "cell_type": "code",
   "execution_count": 6,
   "id": "32112be1",
   "metadata": {},
   "outputs": [],
   "source": [
    "!/usr/local/bin/python3 -m pip install -q --upgrade duckdb\n"
   ]
  },
  {
   "cell_type": "code",
   "execution_count": 7,
   "id": "64a41947",
   "metadata": {},
   "outputs": [
    {
     "name": "stdout",
     "output_type": "stream",
     "text": [
      "Requirement already satisfied: pip in /Library/Frameworks/Python.framework/Versions/3.13/lib/python3.13/site-packages (25.2)\n"
     ]
    }
   ],
   "source": [
    "!pip3 install --upgrade pip"
   ]
  },
  {
   "cell_type": "code",
   "execution_count": 9,
   "id": "59d34821",
   "metadata": {},
   "outputs": [
    {
     "name": "stdout",
     "output_type": "stream",
     "text": [
      "zsh:1: no matches found: kagglehub[pandas-datasets]\n",
      "Note: you may need to restart the kernel to use updated packages.\n"
     ]
    }
   ],
   "source": [
    "pip install kagglehub[pandas-datasets] python-dotenv\n"
   ]
  },
  {
   "cell_type": "markdown",
   "id": "48ac91c8",
   "metadata": {},
   "source": [
    "## 2. Imports\n"
   ]
  },
  {
   "cell_type": "code",
   "execution_count": 39,
   "id": "45367b1d",
   "metadata": {},
   "outputs": [],
   "source": [
    "import os\n",
    "import json\n",
    "import pandas as pd\n",
    "from pathlib import Path\n",
    "from dotenv import load_dotenv\n",
    "import kagglehub\n",
    "from kagglehub import KaggleDatasetAdapter\n"
   ]
  },
  {
   "cell_type": "markdown",
   "id": "4b304517",
   "metadata": {},
   "source": [
    "## 3. Downloads from Kaggle\n"
   ]
  },
  {
   "cell_type": "code",
   "execution_count": 18,
   "id": "b2ddced5",
   "metadata": {},
   "outputs": [
    {
     "name": "stdout",
     "output_type": "stream",
     "text": [
      "USER: ananobre\n",
      "KEY: OK\n"
     ]
    }
   ],
   "source": [
    "load_dotenv()\n",
    "print(\"USER:\", os.getenv(\"KAGGLE_USERNAME\"))\n",
    "print(\"KEY:\", \"OK\" if os.getenv(\"KAGGLE_KEY\") else \"MISSING\")\n"
   ]
  },
  {
   "cell_type": "code",
   "execution_count": 26,
   "id": "6e5688b7",
   "metadata": {},
   "outputs": [
    {
     "name": "stdout",
     "output_type": "stream",
     "text": [
      "Warning: Looks like you're using an outdated `kagglehub` version (installed: 0.3.12), please consider upgrading to the latest version (0.3.13).\n",
      "Path to dataset files: /Users/ananobre/.cache/kagglehub/datasets/computingvictor/transactions-fraud-datasets/versions/1\n"
     ]
    }
   ],
   "source": [
    "# Download latest version\n",
    "path = kagglehub.dataset_download(\"computingvictor/transactions-fraud-datasets\")\n",
    "\n",
    "print(\"Path to dataset files:\", path)"
   ]
  },
  {
   "cell_type": "code",
   "execution_count": 38,
   "id": "43937f84",
   "metadata": {},
   "outputs": [
    {
     "name": "stdout",
     "output_type": "stream",
     "text": [
      "['train_fraud_labels.json', 'mcc_codes.json', 'users_data.csv', 'transactions_data.csv', 'cards_data.csv']\n"
     ]
    }
   ],
   "source": [
    "folder = \"/Users/ananobre/.cache/kagglehub/datasets/computingvictor/transactions-fraud-datasets/versions/1\"\n",
    "print(os.listdir(folder))\n",
    "\n"
   ]
  },
  {
   "cell_type": "markdown",
   "id": "f16ede6e",
   "metadata": {},
   "source": [
    "## 4. Load Data\n"
   ]
  },
  {
   "cell_type": "markdown",
   "id": "44c01d5f",
   "metadata": {},
   "source": [
    "### 🔎 users_data.csv"
   ]
  },
  {
   "cell_type": "code",
   "execution_count": null,
   "id": "ad19263a",
   "metadata": {},
   "outputs": [
    {
     "name": "stdout",
     "output_type": "stream",
     "text": [
      "users: (2000, 14) | transactions: (13305915, 12) | cards: (6146, 13)\n"
     ]
    },
    {
     "data": {
      "text/html": [
       "<div>\n",
       "<style scoped>\n",
       "    .dataframe tbody tr th:only-of-type {\n",
       "        vertical-align: middle;\n",
       "    }\n",
       "\n",
       "    .dataframe tbody tr th {\n",
       "        vertical-align: top;\n",
       "    }\n",
       "\n",
       "    .dataframe thead th {\n",
       "        text-align: right;\n",
       "    }\n",
       "</style>\n",
       "<table border=\"1\" class=\"dataframe\">\n",
       "  <thead>\n",
       "    <tr style=\"text-align: right;\">\n",
       "      <th></th>\n",
       "      <th>id</th>\n",
       "      <th>current_age</th>\n",
       "      <th>retirement_age</th>\n",
       "      <th>birth_year</th>\n",
       "      <th>birth_month</th>\n",
       "      <th>gender</th>\n",
       "      <th>address</th>\n",
       "      <th>latitude</th>\n",
       "      <th>longitude</th>\n",
       "      <th>per_capita_income</th>\n",
       "      <th>yearly_income</th>\n",
       "      <th>total_debt</th>\n",
       "      <th>credit_score</th>\n",
       "      <th>num_credit_cards</th>\n",
       "    </tr>\n",
       "  </thead>\n",
       "  <tbody>\n",
       "    <tr>\n",
       "      <th>0</th>\n",
       "      <td>825</td>\n",
       "      <td>53</td>\n",
       "      <td>66</td>\n",
       "      <td>1966</td>\n",
       "      <td>11</td>\n",
       "      <td>Female</td>\n",
       "      <td>462 Rose Lane</td>\n",
       "      <td>34.15</td>\n",
       "      <td>-117.76</td>\n",
       "      <td>$29278</td>\n",
       "      <td>$59696</td>\n",
       "      <td>$127613</td>\n",
       "      <td>787</td>\n",
       "      <td>5</td>\n",
       "    </tr>\n",
       "    <tr>\n",
       "      <th>1</th>\n",
       "      <td>1746</td>\n",
       "      <td>53</td>\n",
       "      <td>68</td>\n",
       "      <td>1966</td>\n",
       "      <td>12</td>\n",
       "      <td>Female</td>\n",
       "      <td>3606 Federal Boulevard</td>\n",
       "      <td>40.76</td>\n",
       "      <td>-73.74</td>\n",
       "      <td>$37891</td>\n",
       "      <td>$77254</td>\n",
       "      <td>$191349</td>\n",
       "      <td>701</td>\n",
       "      <td>5</td>\n",
       "    </tr>\n",
       "    <tr>\n",
       "      <th>2</th>\n",
       "      <td>1718</td>\n",
       "      <td>81</td>\n",
       "      <td>67</td>\n",
       "      <td>1938</td>\n",
       "      <td>11</td>\n",
       "      <td>Female</td>\n",
       "      <td>766 Third Drive</td>\n",
       "      <td>34.02</td>\n",
       "      <td>-117.89</td>\n",
       "      <td>$22681</td>\n",
       "      <td>$33483</td>\n",
       "      <td>$196</td>\n",
       "      <td>698</td>\n",
       "      <td>5</td>\n",
       "    </tr>\n",
       "    <tr>\n",
       "      <th>3</th>\n",
       "      <td>708</td>\n",
       "      <td>63</td>\n",
       "      <td>63</td>\n",
       "      <td>1957</td>\n",
       "      <td>1</td>\n",
       "      <td>Female</td>\n",
       "      <td>3 Madison Street</td>\n",
       "      <td>40.71</td>\n",
       "      <td>-73.99</td>\n",
       "      <td>$163145</td>\n",
       "      <td>$249925</td>\n",
       "      <td>$202328</td>\n",
       "      <td>722</td>\n",
       "      <td>4</td>\n",
       "    </tr>\n",
       "    <tr>\n",
       "      <th>4</th>\n",
       "      <td>1164</td>\n",
       "      <td>43</td>\n",
       "      <td>70</td>\n",
       "      <td>1976</td>\n",
       "      <td>9</td>\n",
       "      <td>Male</td>\n",
       "      <td>9620 Valley Stream Drive</td>\n",
       "      <td>37.76</td>\n",
       "      <td>-122.44</td>\n",
       "      <td>$53797</td>\n",
       "      <td>$109687</td>\n",
       "      <td>$183855</td>\n",
       "      <td>675</td>\n",
       "      <td>1</td>\n",
       "    </tr>\n",
       "  </tbody>\n",
       "</table>\n",
       "</div>"
      ],
      "text/plain": [
       "     id  current_age  retirement_age  birth_year  birth_month  gender  \\\n",
       "0   825           53              66        1966           11  Female   \n",
       "1  1746           53              68        1966           12  Female   \n",
       "2  1718           81              67        1938           11  Female   \n",
       "3   708           63              63        1957            1  Female   \n",
       "4  1164           43              70        1976            9    Male   \n",
       "\n",
       "                    address  latitude  longitude per_capita_income  \\\n",
       "0             462 Rose Lane     34.15    -117.76            $29278   \n",
       "1    3606 Federal Boulevard     40.76     -73.74            $37891   \n",
       "2           766 Third Drive     34.02    -117.89            $22681   \n",
       "3          3 Madison Street     40.71     -73.99           $163145   \n",
       "4  9620 Valley Stream Drive     37.76    -122.44            $53797   \n",
       "\n",
       "  yearly_income total_debt  credit_score  num_credit_cards  \n",
       "0        $59696    $127613           787                 5  \n",
       "1        $77254    $191349           701                 5  \n",
       "2        $33483       $196           698                 5  \n",
       "3       $249925    $202328           722                 4  \n",
       "4       $109687    $183855           675                 1  "
      ]
     },
     "metadata": {},
     "output_type": "display_data"
    }
   ],
   "source": [
    "# CSVs\n",
    "users = pd.read_csv(os.path.join(folder, \"users_data.csv\"))\n",
    "transactions = pd.read_csv(os.path.join(folder, \"transactions_data.csv\"))\n",
    "cards = pd.read_csv(os.path.join(folder, \"cards_data.csv\"))\n",
    "\n",
    "# Checagem rápida\n",
    "print(\"users:\", users.shape, \"| transactions:\", transactions.shape, \"| cards:\", cards.shape)\n",
    "\n",
    "users.head()\n"
   ]
  },
  {
   "cell_type": "code",
   "execution_count": null,
   "id": "f6a07d14",
   "metadata": {},
   "outputs": [],
   "source": []
  },
  {
   "cell_type": "code",
   "execution_count": null,
   "id": "156a68e1",
   "metadata": {},
   "outputs": [],
   "source": []
  },
  {
   "cell_type": "markdown",
   "id": "b5515b84",
   "metadata": {},
   "source": [
    "### 🔎 transactions_data.csv\"\n"
   ]
  },
  {
   "cell_type": "code",
   "execution_count": 44,
   "id": "ebf28eb3",
   "metadata": {},
   "outputs": [
    {
     "data": {
      "text/html": [
       "<div>\n",
       "<style scoped>\n",
       "    .dataframe tbody tr th:only-of-type {\n",
       "        vertical-align: middle;\n",
       "    }\n",
       "\n",
       "    .dataframe tbody tr th {\n",
       "        vertical-align: top;\n",
       "    }\n",
       "\n",
       "    .dataframe thead th {\n",
       "        text-align: right;\n",
       "    }\n",
       "</style>\n",
       "<table border=\"1\" class=\"dataframe\">\n",
       "  <thead>\n",
       "    <tr style=\"text-align: right;\">\n",
       "      <th></th>\n",
       "      <th>id</th>\n",
       "      <th>date</th>\n",
       "      <th>client_id</th>\n",
       "      <th>card_id</th>\n",
       "      <th>amount</th>\n",
       "      <th>use_chip</th>\n",
       "      <th>merchant_id</th>\n",
       "      <th>merchant_city</th>\n",
       "      <th>merchant_state</th>\n",
       "      <th>zip</th>\n",
       "      <th>mcc</th>\n",
       "      <th>errors</th>\n",
       "    </tr>\n",
       "  </thead>\n",
       "  <tbody>\n",
       "    <tr>\n",
       "      <th>0</th>\n",
       "      <td>7475327</td>\n",
       "      <td>2010-01-01 00:01:00</td>\n",
       "      <td>1556</td>\n",
       "      <td>2972</td>\n",
       "      <td>$-77.00</td>\n",
       "      <td>Swipe Transaction</td>\n",
       "      <td>59935</td>\n",
       "      <td>Beulah</td>\n",
       "      <td>ND</td>\n",
       "      <td>58523.0</td>\n",
       "      <td>5499</td>\n",
       "      <td>NaN</td>\n",
       "    </tr>\n",
       "    <tr>\n",
       "      <th>1</th>\n",
       "      <td>7475328</td>\n",
       "      <td>2010-01-01 00:02:00</td>\n",
       "      <td>561</td>\n",
       "      <td>4575</td>\n",
       "      <td>$14.57</td>\n",
       "      <td>Swipe Transaction</td>\n",
       "      <td>67570</td>\n",
       "      <td>Bettendorf</td>\n",
       "      <td>IA</td>\n",
       "      <td>52722.0</td>\n",
       "      <td>5311</td>\n",
       "      <td>NaN</td>\n",
       "    </tr>\n",
       "    <tr>\n",
       "      <th>2</th>\n",
       "      <td>7475329</td>\n",
       "      <td>2010-01-01 00:02:00</td>\n",
       "      <td>1129</td>\n",
       "      <td>102</td>\n",
       "      <td>$80.00</td>\n",
       "      <td>Swipe Transaction</td>\n",
       "      <td>27092</td>\n",
       "      <td>Vista</td>\n",
       "      <td>CA</td>\n",
       "      <td>92084.0</td>\n",
       "      <td>4829</td>\n",
       "      <td>NaN</td>\n",
       "    </tr>\n",
       "    <tr>\n",
       "      <th>3</th>\n",
       "      <td>7475331</td>\n",
       "      <td>2010-01-01 00:05:00</td>\n",
       "      <td>430</td>\n",
       "      <td>2860</td>\n",
       "      <td>$200.00</td>\n",
       "      <td>Swipe Transaction</td>\n",
       "      <td>27092</td>\n",
       "      <td>Crown Point</td>\n",
       "      <td>IN</td>\n",
       "      <td>46307.0</td>\n",
       "      <td>4829</td>\n",
       "      <td>NaN</td>\n",
       "    </tr>\n",
       "    <tr>\n",
       "      <th>4</th>\n",
       "      <td>7475332</td>\n",
       "      <td>2010-01-01 00:06:00</td>\n",
       "      <td>848</td>\n",
       "      <td>3915</td>\n",
       "      <td>$46.41</td>\n",
       "      <td>Swipe Transaction</td>\n",
       "      <td>13051</td>\n",
       "      <td>Harwood</td>\n",
       "      <td>MD</td>\n",
       "      <td>20776.0</td>\n",
       "      <td>5813</td>\n",
       "      <td>NaN</td>\n",
       "    </tr>\n",
       "  </tbody>\n",
       "</table>\n",
       "</div>"
      ],
      "text/plain": [
       "        id                 date  client_id  card_id   amount  \\\n",
       "0  7475327  2010-01-01 00:01:00       1556     2972  $-77.00   \n",
       "1  7475328  2010-01-01 00:02:00        561     4575   $14.57   \n",
       "2  7475329  2010-01-01 00:02:00       1129      102   $80.00   \n",
       "3  7475331  2010-01-01 00:05:00        430     2860  $200.00   \n",
       "4  7475332  2010-01-01 00:06:00        848     3915   $46.41   \n",
       "\n",
       "            use_chip  merchant_id merchant_city merchant_state      zip   mcc  \\\n",
       "0  Swipe Transaction        59935        Beulah             ND  58523.0  5499   \n",
       "1  Swipe Transaction        67570    Bettendorf             IA  52722.0  5311   \n",
       "2  Swipe Transaction        27092         Vista             CA  92084.0  4829   \n",
       "3  Swipe Transaction        27092   Crown Point             IN  46307.0  4829   \n",
       "4  Swipe Transaction        13051       Harwood             MD  20776.0  5813   \n",
       "\n",
       "  errors  \n",
       "0    NaN  \n",
       "1    NaN  \n",
       "2    NaN  \n",
       "3    NaN  \n",
       "4    NaN  "
      ]
     },
     "execution_count": 44,
     "metadata": {},
     "output_type": "execute_result"
    }
   ],
   "source": [
    "transactions.head()\n"
   ]
  },
  {
   "cell_type": "markdown",
   "id": "1b16dfde",
   "metadata": {},
   "source": [
    "\n",
    "### 🔎 cards_data.csv\""
   ]
  },
  {
   "cell_type": "code",
   "execution_count": 45,
   "id": "39072330",
   "metadata": {},
   "outputs": [
    {
     "data": {
      "text/html": [
       "<div>\n",
       "<style scoped>\n",
       "    .dataframe tbody tr th:only-of-type {\n",
       "        vertical-align: middle;\n",
       "    }\n",
       "\n",
       "    .dataframe tbody tr th {\n",
       "        vertical-align: top;\n",
       "    }\n",
       "\n",
       "    .dataframe thead th {\n",
       "        text-align: right;\n",
       "    }\n",
       "</style>\n",
       "<table border=\"1\" class=\"dataframe\">\n",
       "  <thead>\n",
       "    <tr style=\"text-align: right;\">\n",
       "      <th></th>\n",
       "      <th>id</th>\n",
       "      <th>client_id</th>\n",
       "      <th>card_brand</th>\n",
       "      <th>card_type</th>\n",
       "      <th>card_number</th>\n",
       "      <th>expires</th>\n",
       "      <th>cvv</th>\n",
       "      <th>has_chip</th>\n",
       "      <th>num_cards_issued</th>\n",
       "      <th>credit_limit</th>\n",
       "      <th>acct_open_date</th>\n",
       "      <th>year_pin_last_changed</th>\n",
       "      <th>card_on_dark_web</th>\n",
       "    </tr>\n",
       "  </thead>\n",
       "  <tbody>\n",
       "    <tr>\n",
       "      <th>0</th>\n",
       "      <td>4524</td>\n",
       "      <td>825</td>\n",
       "      <td>Visa</td>\n",
       "      <td>Debit</td>\n",
       "      <td>4344676511950444</td>\n",
       "      <td>12/2022</td>\n",
       "      <td>623</td>\n",
       "      <td>YES</td>\n",
       "      <td>2</td>\n",
       "      <td>$24295</td>\n",
       "      <td>09/2002</td>\n",
       "      <td>2008</td>\n",
       "      <td>No</td>\n",
       "    </tr>\n",
       "    <tr>\n",
       "      <th>1</th>\n",
       "      <td>2731</td>\n",
       "      <td>825</td>\n",
       "      <td>Visa</td>\n",
       "      <td>Debit</td>\n",
       "      <td>4956965974959986</td>\n",
       "      <td>12/2020</td>\n",
       "      <td>393</td>\n",
       "      <td>YES</td>\n",
       "      <td>2</td>\n",
       "      <td>$21968</td>\n",
       "      <td>04/2014</td>\n",
       "      <td>2014</td>\n",
       "      <td>No</td>\n",
       "    </tr>\n",
       "    <tr>\n",
       "      <th>2</th>\n",
       "      <td>3701</td>\n",
       "      <td>825</td>\n",
       "      <td>Visa</td>\n",
       "      <td>Debit</td>\n",
       "      <td>4582313478255491</td>\n",
       "      <td>02/2024</td>\n",
       "      <td>719</td>\n",
       "      <td>YES</td>\n",
       "      <td>2</td>\n",
       "      <td>$46414</td>\n",
       "      <td>07/2003</td>\n",
       "      <td>2004</td>\n",
       "      <td>No</td>\n",
       "    </tr>\n",
       "    <tr>\n",
       "      <th>3</th>\n",
       "      <td>42</td>\n",
       "      <td>825</td>\n",
       "      <td>Visa</td>\n",
       "      <td>Credit</td>\n",
       "      <td>4879494103069057</td>\n",
       "      <td>08/2024</td>\n",
       "      <td>693</td>\n",
       "      <td>NO</td>\n",
       "      <td>1</td>\n",
       "      <td>$12400</td>\n",
       "      <td>01/2003</td>\n",
       "      <td>2012</td>\n",
       "      <td>No</td>\n",
       "    </tr>\n",
       "    <tr>\n",
       "      <th>4</th>\n",
       "      <td>4659</td>\n",
       "      <td>825</td>\n",
       "      <td>Mastercard</td>\n",
       "      <td>Debit (Prepaid)</td>\n",
       "      <td>5722874738736011</td>\n",
       "      <td>03/2009</td>\n",
       "      <td>75</td>\n",
       "      <td>YES</td>\n",
       "      <td>1</td>\n",
       "      <td>$28</td>\n",
       "      <td>09/2008</td>\n",
       "      <td>2009</td>\n",
       "      <td>No</td>\n",
       "    </tr>\n",
       "  </tbody>\n",
       "</table>\n",
       "</div>"
      ],
      "text/plain": [
       "     id  client_id  card_brand        card_type       card_number  expires  \\\n",
       "0  4524        825        Visa            Debit  4344676511950444  12/2022   \n",
       "1  2731        825        Visa            Debit  4956965974959986  12/2020   \n",
       "2  3701        825        Visa            Debit  4582313478255491  02/2024   \n",
       "3    42        825        Visa           Credit  4879494103069057  08/2024   \n",
       "4  4659        825  Mastercard  Debit (Prepaid)  5722874738736011  03/2009   \n",
       "\n",
       "   cvv has_chip  num_cards_issued credit_limit acct_open_date  \\\n",
       "0  623      YES                 2       $24295        09/2002   \n",
       "1  393      YES                 2       $21968        04/2014   \n",
       "2  719      YES                 2       $46414        07/2003   \n",
       "3  693       NO                 1       $12400        01/2003   \n",
       "4   75      YES                 1          $28        09/2008   \n",
       "\n",
       "   year_pin_last_changed card_on_dark_web  \n",
       "0                   2008               No  \n",
       "1                   2014               No  \n",
       "2                   2004               No  \n",
       "3                   2012               No  \n",
       "4                   2009               No  "
      ]
     },
     "execution_count": 45,
     "metadata": {},
     "output_type": "execute_result"
    }
   ],
   "source": [
    "cards.head()"
   ]
  },
  {
   "cell_type": "code",
   "execution_count": 46,
   "id": "c2f44ecd",
   "metadata": {},
   "outputs": [
    {
     "name": "stdout",
     "output_type": "stream",
     "text": [
      "mcc_codes: (109, 2) | fraud_labels: (1, 2)\n"
     ]
    },
    {
     "data": {
      "text/html": [
       "<div>\n",
       "<style scoped>\n",
       "    .dataframe tbody tr th:only-of-type {\n",
       "        vertical-align: middle;\n",
       "    }\n",
       "\n",
       "    .dataframe tbody tr th {\n",
       "        vertical-align: top;\n",
       "    }\n",
       "\n",
       "    .dataframe thead th {\n",
       "        text-align: right;\n",
       "    }\n",
       "</style>\n",
       "<table border=\"1\" class=\"dataframe\">\n",
       "  <thead>\n",
       "    <tr style=\"text-align: right;\">\n",
       "      <th></th>\n",
       "      <th>mcc</th>\n",
       "      <th>mcc_description</th>\n",
       "    </tr>\n",
       "  </thead>\n",
       "  <tbody>\n",
       "    <tr>\n",
       "      <th>0</th>\n",
       "      <td>5812</td>\n",
       "      <td>Eating Places and Restaurants</td>\n",
       "    </tr>\n",
       "    <tr>\n",
       "      <th>1</th>\n",
       "      <td>5541</td>\n",
       "      <td>Service Stations</td>\n",
       "    </tr>\n",
       "    <tr>\n",
       "      <th>2</th>\n",
       "      <td>7996</td>\n",
       "      <td>Amusement Parks, Carnivals, Circuses</td>\n",
       "    </tr>\n",
       "    <tr>\n",
       "      <th>3</th>\n",
       "      <td>5411</td>\n",
       "      <td>Grocery Stores, Supermarkets</td>\n",
       "    </tr>\n",
       "    <tr>\n",
       "      <th>4</th>\n",
       "      <td>4784</td>\n",
       "      <td>Tolls and Bridge Fees</td>\n",
       "    </tr>\n",
       "  </tbody>\n",
       "</table>\n",
       "</div>"
      ],
      "text/plain": [
       "    mcc                       mcc_description\n",
       "0  5812         Eating Places and Restaurants\n",
       "1  5541                      Service Stations\n",
       "2  7996  Amusement Parks, Carnivals, Circuses\n",
       "3  5411          Grocery Stores, Supermarkets\n",
       "4  4784                 Tolls and Bridge Fees"
      ]
     },
     "execution_count": 46,
     "metadata": {},
     "output_type": "execute_result"
    }
   ],
   "source": [
    "# JSONs (dict simples -> vira duas colunas)\n",
    "with open(os.path.join(folder, \"mcc_codes.json\"), \"r\", encoding=\"utf-8\") as f:\n",
    "    mcc_codes = pd.DataFrame(list(json.load(f).items()), columns=[\"mcc\", \"mcc_description\"])\n",
    "\n",
    "with open(os.path.join(folder, \"train_fraud_labels.json\"), \"r\", encoding=\"utf-8\") as f:\n",
    "    fraud_labels = pd.DataFrame(list(json.load(f).items()), columns=[\"transaction_id\", \"is_fraud\"])\n",
    "\n",
    "# Checagem rápida\n",
    "print(\"mcc_codes:\", mcc_codes.shape, \"| fraud_labels:\", fraud_labels.shape)\n",
    "\n",
    "mcc_codes.head()\n",
    "\n"
   ]
  },
  {
   "cell_type": "code",
   "execution_count": 47,
   "id": "997817d4",
   "metadata": {},
   "outputs": [
    {
     "data": {
      "text/html": [
       "<div>\n",
       "<style scoped>\n",
       "    .dataframe tbody tr th:only-of-type {\n",
       "        vertical-align: middle;\n",
       "    }\n",
       "\n",
       "    .dataframe tbody tr th {\n",
       "        vertical-align: top;\n",
       "    }\n",
       "\n",
       "    .dataframe thead th {\n",
       "        text-align: right;\n",
       "    }\n",
       "</style>\n",
       "<table border=\"1\" class=\"dataframe\">\n",
       "  <thead>\n",
       "    <tr style=\"text-align: right;\">\n",
       "      <th></th>\n",
       "      <th>transaction_id</th>\n",
       "      <th>is_fraud</th>\n",
       "    </tr>\n",
       "  </thead>\n",
       "  <tbody>\n",
       "    <tr>\n",
       "      <th>0</th>\n",
       "      <td>target</td>\n",
       "      <td>{'10649266': 'No', '23410063': 'No', '9316588'...</td>\n",
       "    </tr>\n",
       "  </tbody>\n",
       "</table>\n",
       "</div>"
      ],
      "text/plain": [
       "  transaction_id                                           is_fraud\n",
       "0         target  {'10649266': 'No', '23410063': 'No', '9316588'..."
      ]
     },
     "execution_count": 47,
     "metadata": {},
     "output_type": "execute_result"
    }
   ],
   "source": [
    "fraud_labels.head()"
   ]
  },
  {
   "cell_type": "markdown",
   "id": "e6185983",
   "metadata": {},
   "source": [
    "## 5. Exploratory Data Analysis (EDA)\n"
   ]
  },
  {
   "cell_type": "code",
   "execution_count": 49,
   "id": "509c764a",
   "metadata": {},
   "outputs": [
    {
     "name": "stdout",
     "output_type": "stream",
     "text": [
      "\n",
      "USERS -> (2000, 14)\n",
      "id                     int64\n",
      "current_age            int64\n",
      "retirement_age         int64\n",
      "birth_year             int64\n",
      "birth_month            int64\n",
      "gender                object\n",
      "address               object\n",
      "latitude             float64\n",
      "longitude            float64\n",
      "per_capita_income     object\n",
      "yearly_income         object\n",
      "total_debt            object\n",
      "credit_score           int64\n",
      "num_credit_cards       int64\n",
      "dtype: object\n",
      "     id  current_age  retirement_age  birth_year  birth_month  gender  \\\n",
      "0   825           53              66        1966           11  Female   \n",
      "1  1746           53              68        1966           12  Female   \n",
      "2  1718           81              67        1938           11  Female   \n",
      "\n",
      "                  address  latitude  longitude per_capita_income  \\\n",
      "0           462 Rose Lane     34.15    -117.76            $29278   \n",
      "1  3606 Federal Boulevard     40.76     -73.74            $37891   \n",
      "2         766 Third Drive     34.02    -117.89            $22681   \n",
      "\n",
      "  yearly_income total_debt  credit_score  num_credit_cards  \n",
      "0        $59696    $127613           787                 5  \n",
      "1        $77254    $191349           701                 5  \n",
      "2        $33483       $196           698                 5  \n",
      "\n",
      "TRANSACTIONS -> (13305915, 12)\n",
      "id                  int64\n",
      "date               object\n",
      "client_id           int64\n",
      "card_id             int64\n",
      "amount             object\n",
      "use_chip           object\n",
      "merchant_id         int64\n",
      "merchant_city      object\n",
      "merchant_state     object\n",
      "zip               float64\n",
      "mcc                 int64\n",
      "errors             object\n",
      "dtype: object\n",
      "        id                 date  client_id  card_id   amount  \\\n",
      "0  7475327  2010-01-01 00:01:00       1556     2972  $-77.00   \n",
      "1  7475328  2010-01-01 00:02:00        561     4575   $14.57   \n",
      "2  7475329  2010-01-01 00:02:00       1129      102   $80.00   \n",
      "\n",
      "            use_chip  merchant_id merchant_city merchant_state      zip   mcc  \\\n",
      "0  Swipe Transaction        59935        Beulah             ND  58523.0  5499   \n",
      "1  Swipe Transaction        67570    Bettendorf             IA  52722.0  5311   \n",
      "2  Swipe Transaction        27092         Vista             CA  92084.0  4829   \n",
      "\n",
      "  errors  \n",
      "0    NaN  \n",
      "1    NaN  \n",
      "2    NaN  \n",
      "\n",
      "CARDS -> (6146, 13)\n",
      "id                        int64\n",
      "client_id                 int64\n",
      "card_brand               object\n",
      "card_type                object\n",
      "card_number               int64\n",
      "expires                  object\n",
      "cvv                       int64\n",
      "has_chip                 object\n",
      "num_cards_issued          int64\n",
      "credit_limit             object\n",
      "acct_open_date           object\n",
      "year_pin_last_changed     int64\n",
      "card_on_dark_web         object\n",
      "dtype: object\n",
      "     id  client_id card_brand card_type       card_number  expires  cvv  \\\n",
      "0  4524        825       Visa     Debit  4344676511950444  12/2022  623   \n",
      "1  2731        825       Visa     Debit  4956965974959986  12/2020  393   \n",
      "2  3701        825       Visa     Debit  4582313478255491  02/2024  719   \n",
      "\n",
      "  has_chip  num_cards_issued credit_limit acct_open_date  \\\n",
      "0      YES                 2       $24295        09/2002   \n",
      "1      YES                 2       $21968        04/2014   \n",
      "2      YES                 2       $46414        07/2003   \n",
      "\n",
      "   year_pin_last_changed card_on_dark_web  \n",
      "0                   2008               No  \n",
      "1                   2014               No  \n",
      "2                   2004               No  \n",
      "\n",
      "FRAUD_LABELS -> (1, 2)\n",
      "transaction_id    object\n",
      "is_fraud          object\n",
      "dtype: object\n",
      "  transaction_id                                           is_fraud\n",
      "0         target  {'10649266': 'No', '23410063': 'No', '9316588'...\n",
      "\n",
      "MCC_CODES -> (109, 2)\n",
      "mcc                object\n",
      "mcc_description    object\n",
      "dtype: object\n",
      "    mcc                       mcc_description\n",
      "0  5812         Eating Places and Restaurants\n",
      "1  5541                      Service Stations\n",
      "2  7996  Amusement Parks, Carnivals, Circuses\n"
     ]
    }
   ],
   "source": [
    "for name, df in {\n",
    "    \"users\": users, \n",
    "    \"transactions\": transactions, \n",
    "    \"cards\": cards, \n",
    "    \"fraud_labels\": fraud_labels, \n",
    "    \"mcc_codes\": mcc_codes\n",
    "}.items():\n",
    "    print(f\"\\n{name.upper()} -> {df.shape}\")\n",
    "    print(df.dtypes)\n",
    "    print(df.head(3))\n"
   ]
  },
  {
   "cell_type": "code",
   "execution_count": null,
   "id": "b0b340ba",
   "metadata": {},
   "outputs": [],
   "source": []
  },
  {
   "cell_type": "code",
   "execution_count": 50,
   "id": "2c13fa1c",
   "metadata": {},
   "outputs": [
    {
     "data": {
      "text/plain": [
       "Index(['id', 'current_age', 'retirement_age', 'birth_year', 'birth_month',\n",
       "       'gender', 'address', 'latitude', 'longitude', 'per_capita_income',\n",
       "       'yearly_income', 'total_debt', 'credit_score', 'num_credit_cards'],\n",
       "      dtype='object')"
      ]
     },
     "execution_count": 50,
     "metadata": {},
     "output_type": "execute_result"
    }
   ],
   "source": [
    "users.columns\n"
   ]
  },
  {
   "cell_type": "code",
   "execution_count": 51,
   "id": "ad35f6f5",
   "metadata": {},
   "outputs": [
    {
     "data": {
      "text/plain": [
       "Index(['id', 'date', 'client_id', 'card_id', 'amount', 'use_chip',\n",
       "       'merchant_id', 'merchant_city', 'merchant_state', 'zip', 'mcc',\n",
       "       'errors'],\n",
       "      dtype='object')"
      ]
     },
     "execution_count": 51,
     "metadata": {},
     "output_type": "execute_result"
    }
   ],
   "source": [
    "transactions.columns\n"
   ]
  },
  {
   "cell_type": "code",
   "execution_count": 52,
   "id": "59920937",
   "metadata": {},
   "outputs": [
    {
     "data": {
      "text/plain": [
       "Index(['id', 'client_id', 'card_brand', 'card_type', 'card_number', 'expires',\n",
       "       'cvv', 'has_chip', 'num_cards_issued', 'credit_limit', 'acct_open_date',\n",
       "       'year_pin_last_changed', 'card_on_dark_web'],\n",
       "      dtype='object')"
      ]
     },
     "execution_count": 52,
     "metadata": {},
     "output_type": "execute_result"
    }
   ],
   "source": [
    "cards.columns\n"
   ]
  },
  {
   "cell_type": "code",
   "execution_count": 53,
   "id": "0ed8e901",
   "metadata": {},
   "outputs": [
    {
     "data": {
      "text/plain": [
       "Index(['transaction_id', 'is_fraud'], dtype='object')"
      ]
     },
     "execution_count": 53,
     "metadata": {},
     "output_type": "execute_result"
    }
   ],
   "source": [
    "fraud_labels.columns\n"
   ]
  },
  {
   "cell_type": "code",
   "execution_count": 54,
   "id": "dd1d100a",
   "metadata": {},
   "outputs": [
    {
     "data": {
      "text/plain": [
       "Index(['mcc', 'mcc_description'], dtype='object')"
      ]
     },
     "execution_count": 54,
     "metadata": {},
     "output_type": "execute_result"
    }
   ],
   "source": [
    "mcc_codes.columns\n"
   ]
  },
  {
   "cell_type": "code",
   "execution_count": null,
   "id": "7cb0efcd",
   "metadata": {},
   "outputs": [],
   "source": [
    "df = (\n",
    "    transactions\n",
    "    .merge(users, left_on=\"client_id\", right_on=\"id\", how=\"left\", suffixes=(\"\", \"_user\"))\n",
    "    .merge(cards, left_on=\"card_id\", right_on=\"id\", how=\"left\", suffixes=(\"\", \"_card\"))\n",
    "    .merge(fraud_labels, left_on=\"id\", right_on=\"transaction_id\", how=\"left\")\n",
    "    .merge(mcc_codes, on=\"mcc\", how=\"left\")\n",
    ")\n",
    "print(df.shape)\n",
    "df.head()\n"
   ]
  }
 ],
 "metadata": {
  "kernelspec": {
   "display_name": "Python 3",
   "language": "python",
   "name": "python3"
  },
  "language_info": {
   "codemirror_mode": {
    "name": "ipython",
    "version": 3
   },
   "file_extension": ".py",
   "mimetype": "text/x-python",
   "name": "python",
   "nbconvert_exporter": "python",
   "pygments_lexer": "ipython3",
   "version": "3.13.3"
  }
 },
 "nbformat": 4,
 "nbformat_minor": 5
}
